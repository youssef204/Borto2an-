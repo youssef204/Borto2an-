{
  "nbformat": 4,
  "nbformat_minor": 0,
  "metadata": {
    "colab": {
      "provenance": [],
      "authorship_tag": "ABX9TyN4q0YhHJ4Jrbw4byZhkvKf",
      "include_colab_link": true
    },
    "kernelspec": {
      "name": "python3",
      "display_name": "Python 3"
    },
    "language_info": {
      "name": "python"
    }
  },
  "cells": [
    {
      "cell_type": "markdown",
      "metadata": {
        "id": "view-in-github",
        "colab_type": "text"
      },
      "source": [
        "<a href=\"https://colab.research.google.com/github/youssef204/Borto2an-/blob/main/ms1.ipynb\" target=\"_parent\"><img src=\"https://colab.research.google.com/assets/colab-badge.svg\" alt=\"Open In Colab\"/></a>"
      ]
    },
    {
      "cell_type": "markdown",
      "source": [
        "#**Imports**"
      ],
      "metadata": {
        "id": "uwQewOut3REc"
      }
    },
    {
      "cell_type": "code",
      "execution_count": 69,
      "metadata": {
        "id": "RC2jOEcXTeqD",
        "colab": {
          "base_uri": "https://localhost:8080/"
        },
        "outputId": "83b2d91c-9180-4e0e-d7b8-1530119a829c"
      },
      "outputs": [
        {
          "output_type": "stream",
          "name": "stderr",
          "text": [
            "[nltk_data] Downloading package stopwords to /root/nltk_data...\n",
            "[nltk_data]   Package stopwords is already up-to-date!\n",
            "[nltk_data] Downloading package punkt to /root/nltk_data...\n",
            "[nltk_data]   Unzipping tokenizers/punkt.zip.\n"
          ]
        },
        {
          "output_type": "execute_result",
          "data": {
            "text/plain": [
              "True"
            ]
          },
          "metadata": {},
          "execution_count": 69
        }
      ],
      "source": [
        "import numpy as np\n",
        "import pandas as pd\n",
        "from nltk.corpus import stopwords\n",
        "import os\n",
        "import warnings\n",
        "import csv\n",
        "from textblob import TextBlob\n",
        "import re\n",
        "from nltk.stem.isri import ISRIStemmer\n",
        "import nltk\n",
        "nltk.download('stopwords')\n",
        "nltk.download('punkt')"
      ]
    },
    {
      "cell_type": "code",
      "source": [
        "corpus_root = '/content'\n",
        "corpus = PlaintextCorpusReader(corpus_root, '.*.txt')\n",
        "corpus.fileids()"
      ],
      "metadata": {
        "id": "65tzhKR3Y_KW"
      },
      "execution_count": null,
      "outputs": []
    },
    {
      "cell_type": "code",
      "source": [
        "corpus.root"
      ],
      "metadata": {
        "colab": {
          "base_uri": "https://localhost:8080/",
          "height": 34
        },
        "id": "E4tvXmpyZIV5",
        "outputId": "dc92364f-0337-444f-bf29-56651b0610a6"
      },
      "execution_count": 11,
      "outputs": [
        {
          "output_type": "execute_result",
          "data": {
            "text/plain": [
              "FileSystemPathPointer('/content')"
            ],
            "application/vnd.google.colaboratory.intrinsic+json": {
              "type": "string"
            }
          },
          "metadata": {},
          "execution_count": 11
        }
      ]
    },
    {
      "cell_type": "code",
      "source": [
        "wordslist = corpus.words('0001.txt')"
      ],
      "metadata": {
        "id": "VNWv6HE6ZqT7"
      },
      "execution_count": 12,
      "outputs": []
    },
    {
      "cell_type": "code",
      "source": [
        "print(wordslist)"
      ],
      "metadata": {
        "colab": {
          "base_uri": "https://localhost:8080/"
        },
        "id": "aF6W6qA5aQRo",
        "outputId": "8f5d9743-b7aa-4b4d-a854-4accfa261e1d"
      },
      "execution_count": 13,
      "outputs": [
        {
          "output_type": "stream",
          "name": "stdout",
          "text": [
            "['عكست', 'كافة', 'أسواق', 'المنطقة', 'تقريبا', 'ً', ...]\n"
          ]
        }
      ]
    },
    {
      "cell_type": "code",
      "source": [
        "import glob\n",
        "with open('my_file.csv', 'a', newline='') as csv_file:\n",
        "    #csv_file.write('files')\n",
        "    for path in glob.glob('/content/*.txt'):\n",
        "        with open(path) as txt_file:\n",
        "            txt = txt_file.read() + '\\n'\n",
        "            csv_file.write(txt)"
      ],
      "metadata": {
        "id": "1gIhl-wfa4WC"
      },
      "execution_count": 40,
      "outputs": []
    },
    {
      "cell_type": "code",
      "source": [
        "df = pd.read_csv(\"my_file.csv\",on_bad_lines='skip')"
      ],
      "metadata": {
        "id": "yjmQ_pKVdOGM"
      },
      "execution_count": 41,
      "outputs": []
    },
    {
      "cell_type": "code",
      "source": [
        "df.head()"
      ],
      "metadata": {
        "colab": {
          "base_uri": "https://localhost:8080/",
          "height": 267
        },
        "id": "yasqgAgUdRMf",
        "outputId": "6c8ddd31-a6df-47cd-f1c4-0404cfced57b"
      },
      "execution_count": 42,
      "outputs": [
        {
          "output_type": "execute_result",
          "data": {
            "text/plain": [
              "  ينظم معهد حوكمة الشركات حوكمة ومقره مركز دبي المالي العالمي ولجنة التمويل الإسلامي في رابطة المحامين الأمريكية ندوة في دبي في الرابع من الشهر المقبل حول الأوضاع الراهنة والآفاق المستقبلية للتمويل الإسلامي .ويشارك في الندوة التي تعقد في مركز دبي المالي العالمي مجموعة من الفقهاء والمصرفيين والمحامين والمختصين القانونيين في مجال التمويل الإسلامي .\n",
              "0  أبوظبي: الخليج صعد مؤشر سوق أبوظبي للأوراق الم...                                                                                                                                                                                                                                                                                                        \n",
              "1  قاد سهم إعمار صعوداً قوياً لأسواق الأسهم المحل...                                                                                                                                                                                                                                                                                                        \n",
              "2  أبوظبي «الخليج»: ارتفع مؤشر سوق الإمارات المال...                                                                                                                                                                                                                                                                                                        \n",
              "3  أبلغ بنك دبي الإسلامي سوق دبي المالي بأن اجتما...                                                                                                                                                                                                                                                                                                        \n",
              "4  أعلنت هيئة الأوراق المالية والسلع أنه استناداً...                                                                                                                                                                                                                                                                                                        "
            ],
            "text/html": [
              "\n",
              "  <div id=\"df-3dca9e49-6d7a-4ccc-a516-4f4d246b38c7\">\n",
              "    <div class=\"colab-df-container\">\n",
              "      <div>\n",
              "<style scoped>\n",
              "    .dataframe tbody tr th:only-of-type {\n",
              "        vertical-align: middle;\n",
              "    }\n",
              "\n",
              "    .dataframe tbody tr th {\n",
              "        vertical-align: top;\n",
              "    }\n",
              "\n",
              "    .dataframe thead th {\n",
              "        text-align: right;\n",
              "    }\n",
              "</style>\n",
              "<table border=\"1\" class=\"dataframe\">\n",
              "  <thead>\n",
              "    <tr style=\"text-align: right;\">\n",
              "      <th></th>\n",
              "      <th>ينظم معهد حوكمة الشركات حوكمة ومقره مركز دبي المالي العالمي ولجنة التمويل الإسلامي في رابطة المحامين الأمريكية ندوة في دبي في الرابع من الشهر المقبل حول الأوضاع الراهنة والآفاق المستقبلية للتمويل الإسلامي .ويشارك في الندوة التي تعقد في مركز دبي المالي العالمي مجموعة من الفقهاء والمصرفيين والمحامين والمختصين القانونيين في مجال التمويل الإسلامي .</th>\n",
              "    </tr>\n",
              "  </thead>\n",
              "  <tbody>\n",
              "    <tr>\n",
              "      <th>0</th>\n",
              "      <td>أبوظبي: الخليج صعد مؤشر سوق أبوظبي للأوراق الم...</td>\n",
              "    </tr>\n",
              "    <tr>\n",
              "      <th>1</th>\n",
              "      <td>قاد سهم إعمار صعوداً قوياً لأسواق الأسهم المحل...</td>\n",
              "    </tr>\n",
              "    <tr>\n",
              "      <th>2</th>\n",
              "      <td>أبوظبي «الخليج»: ارتفع مؤشر سوق الإمارات المال...</td>\n",
              "    </tr>\n",
              "    <tr>\n",
              "      <th>3</th>\n",
              "      <td>أبلغ بنك دبي الإسلامي سوق دبي المالي بأن اجتما...</td>\n",
              "    </tr>\n",
              "    <tr>\n",
              "      <th>4</th>\n",
              "      <td>أعلنت هيئة الأوراق المالية والسلع أنه استناداً...</td>\n",
              "    </tr>\n",
              "  </tbody>\n",
              "</table>\n",
              "</div>\n",
              "      <button class=\"colab-df-convert\" onclick=\"convertToInteractive('df-3dca9e49-6d7a-4ccc-a516-4f4d246b38c7')\"\n",
              "              title=\"Convert this dataframe to an interactive table.\"\n",
              "              style=\"display:none;\">\n",
              "        \n",
              "  <svg xmlns=\"http://www.w3.org/2000/svg\" height=\"24px\"viewBox=\"0 0 24 24\"\n",
              "       width=\"24px\">\n",
              "    <path d=\"M0 0h24v24H0V0z\" fill=\"none\"/>\n",
              "    <path d=\"M18.56 5.44l.94 2.06.94-2.06 2.06-.94-2.06-.94-.94-2.06-.94 2.06-2.06.94zm-11 1L8.5 8.5l.94-2.06 2.06-.94-2.06-.94L8.5 2.5l-.94 2.06-2.06.94zm10 10l.94 2.06.94-2.06 2.06-.94-2.06-.94-.94-2.06-.94 2.06-2.06.94z\"/><path d=\"M17.41 7.96l-1.37-1.37c-.4-.4-.92-.59-1.43-.59-.52 0-1.04.2-1.43.59L10.3 9.45l-7.72 7.72c-.78.78-.78 2.05 0 2.83L4 21.41c.39.39.9.59 1.41.59.51 0 1.02-.2 1.41-.59l7.78-7.78 2.81-2.81c.8-.78.8-2.07 0-2.86zM5.41 20L4 18.59l7.72-7.72 1.47 1.35L5.41 20z\"/>\n",
              "  </svg>\n",
              "      </button>\n",
              "      \n",
              "  <style>\n",
              "    .colab-df-container {\n",
              "      display:flex;\n",
              "      flex-wrap:wrap;\n",
              "      gap: 12px;\n",
              "    }\n",
              "\n",
              "    .colab-df-convert {\n",
              "      background-color: #E8F0FE;\n",
              "      border: none;\n",
              "      border-radius: 50%;\n",
              "      cursor: pointer;\n",
              "      display: none;\n",
              "      fill: #1967D2;\n",
              "      height: 32px;\n",
              "      padding: 0 0 0 0;\n",
              "      width: 32px;\n",
              "    }\n",
              "\n",
              "    .colab-df-convert:hover {\n",
              "      background-color: #E2EBFA;\n",
              "      box-shadow: 0px 1px 2px rgba(60, 64, 67, 0.3), 0px 1px 3px 1px rgba(60, 64, 67, 0.15);\n",
              "      fill: #174EA6;\n",
              "    }\n",
              "\n",
              "    [theme=dark] .colab-df-convert {\n",
              "      background-color: #3B4455;\n",
              "      fill: #D2E3FC;\n",
              "    }\n",
              "\n",
              "    [theme=dark] .colab-df-convert:hover {\n",
              "      background-color: #434B5C;\n",
              "      box-shadow: 0px 1px 3px 1px rgba(0, 0, 0, 0.15);\n",
              "      filter: drop-shadow(0px 1px 2px rgba(0, 0, 0, 0.3));\n",
              "      fill: #FFFFFF;\n",
              "    }\n",
              "  </style>\n",
              "\n",
              "      <script>\n",
              "        const buttonEl =\n",
              "          document.querySelector('#df-3dca9e49-6d7a-4ccc-a516-4f4d246b38c7 button.colab-df-convert');\n",
              "        buttonEl.style.display =\n",
              "          google.colab.kernel.accessAllowed ? 'block' : 'none';\n",
              "\n",
              "        async function convertToInteractive(key) {\n",
              "          const element = document.querySelector('#df-3dca9e49-6d7a-4ccc-a516-4f4d246b38c7');\n",
              "          const dataTable =\n",
              "            await google.colab.kernel.invokeFunction('convertToInteractive',\n",
              "                                                     [key], {});\n",
              "          if (!dataTable) return;\n",
              "\n",
              "          const docLinkHtml = 'Like what you see? Visit the ' +\n",
              "            '<a target=\"_blank\" href=https://colab.research.google.com/notebooks/data_table.ipynb>data table notebook</a>'\n",
              "            + ' to learn more about interactive tables.';\n",
              "          element.innerHTML = '';\n",
              "          dataTable['output_type'] = 'display_data';\n",
              "          await google.colab.output.renderOutput(dataTable, element);\n",
              "          const docLink = document.createElement('div');\n",
              "          docLink.innerHTML = docLinkHtml;\n",
              "          element.appendChild(docLink);\n",
              "        }\n",
              "      </script>\n",
              "    </div>\n",
              "  </div>\n",
              "  "
            ]
          },
          "metadata": {},
          "execution_count": 42
        }
      ]
    },
    {
      "cell_type": "markdown",
      "source": [
        "# **Read files into CSV**\n",
        "\n",
        "---\n",
        "\n",
        "\n",
        "\n",
        "---\n",
        "\n"
      ],
      "metadata": {
        "id": "B1Y4MV-M3nzv"
      }
    },
    {
      "cell_type": "code",
      "source": [
        "\n",
        "# Directory containing the text files to merge\n",
        "dir_path = '/content'\n",
        "\n",
        "# List of all the text files in the directory\n",
        "files = os.listdir(dir_path)\n",
        "print(files)\n",
        "\n",
        "# Open the CSV file for writing\n",
        "with open('merged_file.csv', 'w', newline='') as csvfile:\n",
        "    writer = csv.writer(csvfile)\n",
        "\n",
        "    # Write the header row to the CSV file\n",
        "    writer.writerow(['filename', 'content'])\n",
        "\n",
        "    # Iterate through all the text files in the directory\n",
        "    for file in files:\n",
        "        if file.endswith('.txt'):\n",
        "            # Open the text file for reading\n",
        "            with open(os.path.join(dir_path, file), 'r') as f:\n",
        "                content = f.read()\n",
        "                \n",
        "            # Write the filename and content to the CSV file\n",
        "            writer.writerow([file, content])\n",
        "\n",
        "# Close the CSV file\n",
        "csvfile.close()"
      ],
      "metadata": {
        "colab": {
          "base_uri": "https://localhost:8080/"
        },
        "id": "Do9J0H-zekAm",
        "outputId": "76e8f61e-7d39-4379-bfbb-e7213ad21355"
      },
      "execution_count": 44,
      "outputs": [
        {
          "output_type": "stream",
          "name": "stdout",
          "text": [
            "['.config', '0126.txt', '1007.txt', '0941.txt', '1113.txt', '0765.txt', '0706.txt', '0043.txt', '0804.txt', '0843.txt', '1120.txt', '0871.txt', '0383.txt', '0157.txt', '0648.txt', '0909.txt', '0367.txt', '0321.txt', '0790.txt', '0815.txt', '0625.txt', '0288.txt', '1096.txt', '0655.txt', '0827.txt', '0800.txt', '0529.txt', '0256.txt', '0292.txt', '0044.txt', '1055.txt', '0390.txt', '0913.txt', '0683.txt', '0466.txt', '0774.txt', '0266.txt', '0707.txt', '0073.txt', '0263.txt', '0810.txt', '0921.txt', '0348.txt', '0862.txt', '0623.txt', '0106.txt', '1094.txt', '1023.txt', '0745.txt', '1013.txt', '0145.txt', '0993.txt', '1049.txt', '0143.txt', '0190.txt', '0916.txt', '0221.txt', '0296.txt', '0523.txt', '1080.txt', '0434.txt', '1006.txt', '0768.txt', '0663.txt', '0426.txt', '0632.txt', '0580.txt', '0153.txt', '0196.txt', '0050.txt', '0986.txt', '0082.txt', '0149.txt', '0075.txt', '0045.txt', '0712.txt', '0224.txt', '0991.txt', '0544.txt', '0142.txt', '0493.txt', '0395.txt', '0404.txt', '1029.txt', '0254.txt', '0744.txt', '0697.txt', '0337.txt', '0819.txt', '0474.txt', '0440.txt', '0331.txt', '0688.txt', '0984.txt', '0355.txt', '0733.txt', '0582.txt', '0952.txt', '0948.txt', '0975.txt', '1025.txt', '0830.txt', '0606.txt', '0908.txt', '0779.txt', '0771.txt', '0179.txt', '0999.txt', '0261.txt', '0274.txt', '0457.txt', '0152.txt', '0023.txt', '0018.txt', '0220.txt', '0432.txt', '0849.txt', '0229.txt', '0994.txt', '0754.txt', '0208.txt', '0562.txt', '0786.txt', '0546.txt', '0552.txt', '0056.txt', '1088.txt', '0787.txt', '0746.txt', '0802.txt', '0516.txt', '0958.txt', '0690.txt', '0826.txt', '1026.txt', '0832.txt', '0726.txt', '0550.txt', '0945.txt', '0610.txt', '0354.txt', '0486.txt', '0253.txt', '0245.txt', '0848.txt', '0365.txt', '0556.txt', '0987.txt', '0770.txt', '0732.txt', '0217.txt', '0989.txt', '0046.txt', '0112.txt', '0487.txt', '0602.txt', '0937.txt', '0851.txt', '0809.txt', '0644.txt', '0000.txt', '0813.txt', '0317.txt', '0742.txt', '0243.txt', '0109.txt', '1105.txt', '1108.txt', '0341.txt', '0059.txt', '0619.txt', '0520.txt', '0356.txt', '0901.txt', '0378.txt', '1078.txt', '0535.txt', '0037.txt', '0715.txt', '0609.txt', '1109.txt', '0482.txt', '0960.txt', '0421.txt', '0248.txt', '0034.txt', '0473.txt', '0247.txt', '0666.txt', '1102.txt', '1004.txt', '0318.txt', '0148.txt', '0003.txt', '0568.txt', '0294.txt', '0231.txt', '1084.txt', '0230.txt', '0764.txt', '0239.txt', '0936.txt', '0781.txt', '0920.txt', '0392.txt', '0841.txt', '0527.txt', '1093.txt', '0035.txt', '0204.txt', '0147.txt', '0680.txt', '0581.txt', '0264.txt', '0824.txt', '0598.txt', '0290.txt', '0670.txt', '0437.txt', '0316.txt', '0977.txt', '1081.txt', '0502.txt', '0054.txt', '0178.txt', '0435.txt', '0822.txt', '1103.txt', '0947.txt', '0659.txt', '0886.txt', '0873.txt', '0443.txt', '1071.txt', '0099.txt', '0101.txt', '0372.txt', '0532.txt', '0103.txt', '0319.txt', '0601.txt', '0985.txt', '0347.txt', '0738.txt', '0558.txt', '0949.txt', '0747.txt', '0966.txt', '0929.txt', '0455.txt', '0583.txt', '0436.txt', '1034.txt', '1065.txt', '0202.txt', '1060.txt', '0380.txt', '0801.txt', '0784.txt', '0757.txt', '0306.txt', '0856.txt', '0756.txt', '0676.txt', '0499.txt', '0180.txt', '0698.txt', '0409.txt', '0978.txt', '0282.txt', '0965.txt', '1028.txt', '0961.txt', '1098.txt', '0972.txt', '0146.txt', '0417.txt', '0227.txt', '0646.txt', '1032.txt', '0165.txt', '0127.txt', '0729.txt', '0599.txt', '0792.txt', '0962.txt', '0072.txt', '0343.txt', '0265.txt', '0888.txt', '1051.txt', '1085.txt', '1021.txt', '0879.txt', '0259.txt', '0611.txt', '0379.txt', '0111.txt', '0090.txt', '0133.txt', '0514.txt', '1057.txt', '0104.txt', '0900.txt', '0672.txt', '1082.txt', '0373.txt', '0260.txt', '0364.txt', '0418.txt', '0218.txt', '0793.txt', '0737.txt', '0887.txt', '0918.txt', '0912.txt', '0842.txt', '0049.txt', '0661.txt', '1070.txt', '0182.txt', '0704.txt', '0199.txt', '0917.txt', '0116.txt', '0472.txt', '0513.txt', '0005.txt', '0360.txt', '0083.txt', '0251.txt', '1106.txt', '0893.txt', '0591.txt', '0255.txt', '0237.txt', '0570.txt', '0988.txt', '0131.txt', '0854.txt', '0713.txt', '0577.txt', '0089.txt', '0902.txt', '0015.txt', '0326.txt', '0763.txt', '0595.txt', '0882.txt', '0992.txt', '0654.txt', '0604.txt', '1041.txt', '0197.txt', '0701.txt', '1091.txt', '0410.txt', '0298.txt', '0134.txt', '0188.txt', '0605.txt', '0776.txt', '0806.txt', '0052.txt', '0528.txt', '0442.txt', '0416.txt', '0401.txt', '1008.txt', '0628.txt', '0915.txt', '0858.txt', '0933.txt', '0096.txt', '0739.txt', '0139.txt', '1115.txt', '0736.txt', '0285.txt', '1117.txt', '0233.txt', '1077.txt', '0174.txt', '0140.txt', '0863.txt', '0366.txt', '1086.txt', '0979.txt', '0287.txt', '0028.txt', '0807.txt', '0728.txt', '0624.txt', '0427.txt', '0702.txt', '0504.txt', '0553.txt', '0010.txt', '1100.txt', '0821.txt', '0362.txt', '0634.txt', '0138.txt', '0538.txt', '0376.txt', '0505.txt', '0129.txt', '0135.txt', '0088.txt', '0872.txt', '0762.txt', '0483.txt', '0981.txt', '0060.txt', '0758.txt', '0307.txt', '0095.txt', '1042.txt', '0055.txt', '0607.txt', '0537.txt', '0303.txt', '0085.txt', '0853.txt', '0507.txt', '0246.txt', '0194.txt', '0400.txt', '0156.txt', '1037.txt', '0517.txt', '0573.txt', '0235.txt', '0653.txt', '0589.txt', '0983.txt', '0160.txt', '0398.txt', '0468.txt', '0930.txt', '0464.txt', '0113.txt', '0749.txt', '0193.txt', '0284.txt', '0200.txt', '0413.txt', '0803.txt', '0240.txt', '1089.txt', '1016.txt', '0151.txt', '1009.txt', '1040.txt', '0542.txt', '0403.txt', '0394.txt', '0501.txt', '0799.txt', '0047.txt', '0633.txt', '0232.txt', '0406.txt', '0631.txt', '1000.txt', '0132.txt', '0677.txt', '0241.txt', '0063.txt', '0686.txt', '0748.txt', '0498.txt', '0447.txt', '0467.txt', '0021.txt', '0428.txt', '0310.txt', '1111.txt', '0017.txt', '0118.txt', '0555.txt', '0091.txt', '0481.txt', '0449.txt', '0344.txt', '1097.txt', '0130.txt', '0108.txt', '0775.txt', '0159.txt', '1005.txt', '0312.txt', '0422.txt', '0032.txt', '1044.txt', '0065.txt', '0572.txt', '0041.txt', '0693.txt', '0137.txt', '0122.txt', '0895.txt', '0506.txt', '0967.txt', '0834.txt', '1050.txt', '1046.txt', '0892.txt', '0479.txt', '0399.txt', '1015.txt', '0990.txt', '0816.txt', '0614.txt', '0716.txt', '0058.txt', '0488.txt', '0630.txt', '0955.txt', '0995.txt', '0699.txt', '0709.txt', '0405.txt', '0222.txt', '0169.txt', '0682.txt', '0074.txt', '0898.txt', '0339.txt', '0642.txt', '0212.txt', '0192.txt', '0518.txt', '0864.txt', '0036.txt', '0322.txt', '0597.txt', '0727.txt', '1112.txt', '0453.txt', '0181.txt', '0585.txt', '0681.txt', '0198.txt', '0881.txt', '1073.txt', '0386.txt', '0859.txt', '0205.txt', '0503.txt', '0039.txt', '0161.txt', '0795.txt', '0456.txt', '0114.txt', '0794.txt', '0980.txt', '0325.txt', '0244.txt', '0033.txt', '0439.txt', '0844.txt', '0183.txt', '0414.txt', '0791.txt', '0209.txt', '0563.txt', '1035.txt', '0154.txt', '0425.txt', '0675.txt', '0211.txt', '0906.txt', '0777.txt', '1092.txt', '0823.txt', '0393.txt', '0286.txt', '0273.txt', '0465.txt', '0635.txt', '0877.txt', '0215.txt', '0388.txt', '0907.txt', '0950.txt', '0117.txt', '0751.txt', '0649.txt', '0931.txt', '0150.txt', '1059.txt', '0665.txt', '0350.txt', '0711.txt', '0363.txt', '0384.txt', '0927.txt', '0358.txt', '0717.txt', '0627.txt', '0336.txt', '0216.txt', '0402.txt', '1090.txt', '0353.txt', '0297.txt', '0278.txt', '0335.txt', '0291.txt', '0641.txt', '0923.txt', '0500.txt', '0030.txt', '1061.txt', '0257.txt', '0731.txt', '0330.txt', '0430.txt', '0773.txt', '0825.txt', '0234.txt', '0694.txt', '0272.txt', '0943.txt', '0454.txt', '0328.txt', '0020.txt', '0210.txt', '0692.txt', '0295.txt', '0102.txt', '0332.txt', '1038.txt', '0346.txt', '0008.txt', '0678.txt', '0626.txt', '0579.txt', '0708.txt', '0042.txt', '1039.txt', '0069.txt', '0370.txt', '0705.txt', '0622.txt', '0618.txt', '0357.txt', '0185.txt', '0242.txt', '0207.txt', '0575.txt', '0170.txt', '0206.txt', '0998.txt', '0724.txt', '0249.txt', '0897.txt', '0840.txt', '0828.txt', '0308.txt', '0081.txt', '0176.txt', '0508.txt', '0685.txt', '0268.txt', '0097.txt', '0186.txt', '0491.txt', '0121.txt', '0603.txt', '0141.txt', '0860.txt', '0928.txt', '0009.txt', '1101.txt', '0162.txt', '0441.txt', '0759.txt', '0067.txt', '0720.txt', '0554.txt', '0559.txt', '0964.txt', '0038.txt', '0201.txt', '0788.txt', '0551.txt', '0448.txt', '0522.txt', '0013.txt', '0885.txt', '0561.txt', '0031.txt', '0608.txt', '0636.txt', '0839.txt', '0963.txt', '0475.txt', '0419.txt', '0769.txt', '1043.txt', '0252.txt', '0281.txt', '1010.txt', '0070.txt', '0658.txt', '0304.txt', '0855.txt', '0323.txt', '1122.txt', '0460.txt', '0878.txt', '0300.txt', '0722.txt', '0342.txt', '0837.txt', '0545.txt', '0225.txt', '0433.txt', '0120.txt', '0696.txt', '0541.txt', '0077.txt', '0590.txt', '0547.txt', '0894.txt', '0262.txt', '0452.txt', '0173.txt', '0569.txt', '0651.txt', '0533.txt', '0911.txt', '0959.txt', '1014.txt', '0269.txt', '0407.txt', '0814.txt', '0446.txt', '0002.txt', '0302.txt', '0954.txt', '0938.txt', '0016.txt', '0703.txt', '0884.txt', '1087.txt', '0835.txt', '0223.txt', '0484.txt', '0478.txt', '0420.txt', '1075.txt', '0276.txt', '0155.txt', '1095.txt', '0671.txt', '0369.txt', '0184.txt', '0004.txt', '0490.txt', '1017.txt', '0785.txt', '0584.txt', '0996.txt', '0812.txt', '1030.txt', '0820.txt', '0700.txt', '0905.txt', '0125.txt', '0889.txt', '0480.txt', '0880.txt', '0796.txt', '0639.txt', '0271.txt', '0469.txt', '0767.txt', '0789.txt', '0798.txt', '0833.txt', '0831.txt', '0734.txt', '0772.txt', '0123.txt', '0371.txt', '0361.txt', '0637.txt', '0953.txt', '1002.txt', '0385.txt', '0438.txt', '0305.txt', '0333.txt', '0743.txt', '0674.txt', '0080.txt', '0397.txt', '0914.txt', '0124.txt', '0766.txt', '0594.txt', '0110.txt', '0051.txt', '0084.txt', '0910.txt', '1024.txt', '0868.txt', '0876.txt', '0829.txt', '0062.txt', '0640.txt', '1058.txt', '0852.txt', '0515.txt', '0904.txt', '0761.txt', '1104.txt', '1031.txt', '0068.txt', '0374.txt', '0497.txt', '0334.txt', '0652.txt', '0011.txt', '0647.txt', '0588.txt', '0543.txt', '0890.txt', '1116.txt', '0668.txt', '0753.txt', '0351.txt', '0922.txt', '0057.txt', '0616.txt', '0377.txt', '0956.txt', '0638.txt', '0315.txt', '1066.txt', '0213.txt', '0847.txt', '0238.txt', '0250.txt', '0612.txt', '0874.txt', '0462.txt', '0492.txt', '0536.txt', '0924.txt', '1003.txt', '1083.txt', '0459.txt', '0444.txt', '1114.txt', '0891.txt', '0721.txt', '0166.txt', '0022.txt', '0850.txt', '0320.txt', '0643.txt', '0450.txt', '0645.txt', '1020.txt', '0565.txt', '0189.txt', '1001.txt', '0866.txt', '0408.txt', '0903.txt', '0338.txt', '0968.txt', '0861.txt', '0525.txt', '0175.txt', '0280.txt', '0066.txt', '0657.txt', '0741.txt', '0870.txt', '0664.txt', '1099.txt', '0079.txt', '0324.txt', '0025.txt', '0258.txt', '0926.txt', '0387.txt', '0730.txt', '0548.txt', '0115.txt', '0078.txt', '1063.txt', '0375.txt', '0782.txt', '0029.txt', '1048.txt', '0613.txt', '0946.txt', '0471.txt', '0925.txt', '1053.txt', '0540.txt', '0458.txt', '1107.txt', '1064.txt', '1118.txt', '0177.txt', '0714.txt', '0935.txt', '0119.txt', '0391.txt', '0531.txt', '0461.txt', '0195.txt', '0586.txt', '0539.txt', '0939.txt', '0340.txt', '1121.txt', '1022.txt', '0136.txt', '0944.txt', '0973.txt', '0818.txt', '1069.txt', '0976.txt', '1067.txt', '0919.txt', '0495.txt', '0098.txt', '1062.txt', '0596.txt', '1012.txt', '0587.txt', '0755.txt', '0718.txt', '0381.txt', '0750.txt', '0293.txt', '0006.txt', '0423.txt', '0431.txt', '0723.txt', '0415.txt', '0311.txt', '0389.txt', '0172.txt', '0526.txt', '0424.txt', '0064.txt', '0932.txt', '1054.txt', '0158.txt', '0187.txt', '0040.txt', '1056.txt', '0899.txt', '0684.txt', '0396.txt', '1076.txt', '0470.txt', '0279.txt', '0001.txt', '0509.txt', '0519.txt', '0313.txt', '0163.txt', '0691.txt', '0689.txt', '0128.txt', '0571.txt', '0808.txt', '0869.txt', '0345.txt', '0352.txt', '0797.txt', '0662.txt', '0477.txt', '1027.txt', '0270.txt', '0368.txt', '0600.txt', '0982.txt', '0327.txt', '0489.txt', '0301.txt', '0093.txt', '0412.txt', '0530.txt', '0970.txt', '0629.txt', '0560.txt', '0817.txt', '0660.txt', '1011.txt', '0875.txt', '0349.txt', '0203.txt', '0485.txt', '0805.txt', '0228.txt', '0076.txt', '0382.txt', '0283.txt', '0510.txt', '0865.txt', '0735.txt', '0896.txt', '0752.txt', '1125.txt', '0883.txt', '0620.txt', '0710.txt', '0451.txt', '0226.txt', '0191.txt', '0971.txt', '1052.txt', '0778.txt', '0695.txt', '0564.txt', '0309.txt', '1119.txt', '0725.txt', '0275.txt', '1074.txt', '0521.txt', '0144.txt', '0838.txt', '0574.txt', '0299.txt', '0086.txt', '0429.txt', '0027.txt', '1047.txt', '0667.txt', '0445.txt', '0314.txt', '0164.txt', '0867.txt', '0048.txt', '0236.txt', '0219.txt', '0359.txt', '0026.txt', '0780.txt', '0576.txt', '0969.txt', '0094.txt', '0836.txt', '0524.txt', '0411.txt', '0567.txt', '0942.txt', '0557.txt', '0171.txt', '0621.txt', '0105.txt', '0024.txt', '0289.txt', '0783.txt', '0214.txt', '0019.txt', '0857.txt', '0740.txt', '1036.txt', '0669.txt', '0592.txt', '0476.txt', '0615.txt', '0940.txt', '0534.txt', '0566.txt', '0012.txt', '0167.txt', '0329.txt', '1045.txt', '0512.txt', '0087.txt', '0007.txt', '1068.txt', '0100.txt', '1033.txt', '0092.txt', '0107.txt', '1019.txt', '0496.txt', 'my_file.csv', '0673.txt', '0549.txt', '0997.txt', '1072.txt', '0168.txt', '1018.txt', 'merged_file.csv', '1110.txt', '1079.txt', '0760.txt', '0957.txt', '0593.txt', '0974.txt', '0845.txt', '0951.txt', '0687.txt', '0617.txt', '0267.txt', '0811.txt', '0277.txt', '0014.txt', '0719.txt', '0511.txt', '0071.txt', '0463.txt', '0846.txt', '0650.txt', '0061.txt', '0656.txt', '0053.txt', '0679.txt', '0578.txt', '0934.txt', '0494.txt', 'sample_data']\n"
          ]
        }
      ]
    },
    {
      "cell_type": "code",
      "source": [
        "df = pd.read_csv(\"merged_file.csv\").head()"
      ],
      "metadata": {
        "id": "IfK7YJz1ikIl"
      },
      "execution_count": 46,
      "outputs": []
    },
    {
      "cell_type": "code",
      "source": [
        "df.head()"
      ],
      "metadata": {
        "colab": {
          "base_uri": "https://localhost:8080/",
          "height": 511
        },
        "id": "VBTrI1nejYv5",
        "outputId": "e2204f81-f61d-4a86-9740-889c2370a9fb"
      },
      "execution_count": 47,
      "outputs": [
        {
          "output_type": "execute_result",
          "data": {
            "text/plain": [
              "   filename                                            content\n",
              "0  0126.txt  ينظم معهد حوكمة الشركات حوكمة ومقره مركز دبي ا...\n",
              "1  1007.txt  أبوظبي: الخليج صعد مؤشر سوق أبوظبي للأوراق الم...\n",
              "2  0941.txt  قاد سهم إعمار صعوداً قوياً لأسواق الأسهم المحل...\n",
              "3  1113.txt  أبوظبي «الخليج»: ارتفع مؤشر سوق الإمارات المال...\n",
              "4  0765.txt  أبلغ بنك دبي الإسلامي سوق دبي المالي بأن اجتما..."
            ],
            "text/html": [
              "\n",
              "  <div id=\"df-e827aa93-41f7-456b-a22c-8aef5ef5b1c3\">\n",
              "    <div class=\"colab-df-container\">\n",
              "      <div>\n",
              "<style scoped>\n",
              "    .dataframe tbody tr th:only-of-type {\n",
              "        vertical-align: middle;\n",
              "    }\n",
              "\n",
              "    .dataframe tbody tr th {\n",
              "        vertical-align: top;\n",
              "    }\n",
              "\n",
              "    .dataframe thead th {\n",
              "        text-align: right;\n",
              "    }\n",
              "</style>\n",
              "<table border=\"1\" class=\"dataframe\">\n",
              "  <thead>\n",
              "    <tr style=\"text-align: right;\">\n",
              "      <th></th>\n",
              "      <th>filename</th>\n",
              "      <th>content</th>\n",
              "    </tr>\n",
              "  </thead>\n",
              "  <tbody>\n",
              "    <tr>\n",
              "      <th>0</th>\n",
              "      <td>0126.txt</td>\n",
              "      <td>ينظم معهد حوكمة الشركات حوكمة ومقره مركز دبي ا...</td>\n",
              "    </tr>\n",
              "    <tr>\n",
              "      <th>1</th>\n",
              "      <td>1007.txt</td>\n",
              "      <td>أبوظبي: الخليج صعد مؤشر سوق أبوظبي للأوراق الم...</td>\n",
              "    </tr>\n",
              "    <tr>\n",
              "      <th>2</th>\n",
              "      <td>0941.txt</td>\n",
              "      <td>قاد سهم إعمار صعوداً قوياً لأسواق الأسهم المحل...</td>\n",
              "    </tr>\n",
              "    <tr>\n",
              "      <th>3</th>\n",
              "      <td>1113.txt</td>\n",
              "      <td>أبوظبي «الخليج»: ارتفع مؤشر سوق الإمارات المال...</td>\n",
              "    </tr>\n",
              "    <tr>\n",
              "      <th>4</th>\n",
              "      <td>0765.txt</td>\n",
              "      <td>أبلغ بنك دبي الإسلامي سوق دبي المالي بأن اجتما...</td>\n",
              "    </tr>\n",
              "  </tbody>\n",
              "</table>\n",
              "</div>\n",
              "      <button class=\"colab-df-convert\" onclick=\"convertToInteractive('df-e827aa93-41f7-456b-a22c-8aef5ef5b1c3')\"\n",
              "              title=\"Convert this dataframe to an interactive table.\"\n",
              "              style=\"display:none;\">\n",
              "        \n",
              "  <svg xmlns=\"http://www.w3.org/2000/svg\" height=\"24px\"viewBox=\"0 0 24 24\"\n",
              "       width=\"24px\">\n",
              "    <path d=\"M0 0h24v24H0V0z\" fill=\"none\"/>\n",
              "    <path d=\"M18.56 5.44l.94 2.06.94-2.06 2.06-.94-2.06-.94-.94-2.06-.94 2.06-2.06.94zm-11 1L8.5 8.5l.94-2.06 2.06-.94-2.06-.94L8.5 2.5l-.94 2.06-2.06.94zm10 10l.94 2.06.94-2.06 2.06-.94-2.06-.94-.94-2.06-.94 2.06-2.06.94z\"/><path d=\"M17.41 7.96l-1.37-1.37c-.4-.4-.92-.59-1.43-.59-.52 0-1.04.2-1.43.59L10.3 9.45l-7.72 7.72c-.78.78-.78 2.05 0 2.83L4 21.41c.39.39.9.59 1.41.59.51 0 1.02-.2 1.41-.59l7.78-7.78 2.81-2.81c.8-.78.8-2.07 0-2.86zM5.41 20L4 18.59l7.72-7.72 1.47 1.35L5.41 20z\"/>\n",
              "  </svg>\n",
              "      </button>\n",
              "      \n",
              "  <style>\n",
              "    .colab-df-container {\n",
              "      display:flex;\n",
              "      flex-wrap:wrap;\n",
              "      gap: 12px;\n",
              "    }\n",
              "\n",
              "    .colab-df-convert {\n",
              "      background-color: #E8F0FE;\n",
              "      border: none;\n",
              "      border-radius: 50%;\n",
              "      cursor: pointer;\n",
              "      display: none;\n",
              "      fill: #1967D2;\n",
              "      height: 32px;\n",
              "      padding: 0 0 0 0;\n",
              "      width: 32px;\n",
              "    }\n",
              "\n",
              "    .colab-df-convert:hover {\n",
              "      background-color: #E2EBFA;\n",
              "      box-shadow: 0px 1px 2px rgba(60, 64, 67, 0.3), 0px 1px 3px 1px rgba(60, 64, 67, 0.15);\n",
              "      fill: #174EA6;\n",
              "    }\n",
              "\n",
              "    [theme=dark] .colab-df-convert {\n",
              "      background-color: #3B4455;\n",
              "      fill: #D2E3FC;\n",
              "    }\n",
              "\n",
              "    [theme=dark] .colab-df-convert:hover {\n",
              "      background-color: #434B5C;\n",
              "      box-shadow: 0px 1px 3px 1px rgba(0, 0, 0, 0.15);\n",
              "      filter: drop-shadow(0px 1px 2px rgba(0, 0, 0, 0.3));\n",
              "      fill: #FFFFFF;\n",
              "    }\n",
              "  </style>\n",
              "\n",
              "      <script>\n",
              "        const buttonEl =\n",
              "          document.querySelector('#df-e827aa93-41f7-456b-a22c-8aef5ef5b1c3 button.colab-df-convert');\n",
              "        buttonEl.style.display =\n",
              "          google.colab.kernel.accessAllowed ? 'block' : 'none';\n",
              "\n",
              "        async function convertToInteractive(key) {\n",
              "          const element = document.querySelector('#df-e827aa93-41f7-456b-a22c-8aef5ef5b1c3');\n",
              "          const dataTable =\n",
              "            await google.colab.kernel.invokeFunction('convertToInteractive',\n",
              "                                                     [key], {});\n",
              "          if (!dataTable) return;\n",
              "\n",
              "          const docLinkHtml = 'Like what you see? Visit the ' +\n",
              "            '<a target=\"_blank\" href=https://colab.research.google.com/notebooks/data_table.ipynb>data table notebook</a>'\n",
              "            + ' to learn more about interactive tables.';\n",
              "          element.innerHTML = '';\n",
              "          dataTable['output_type'] = 'display_data';\n",
              "          await google.colab.output.renderOutput(dataTable, element);\n",
              "          const docLink = document.createElement('div');\n",
              "          docLink.innerHTML = docLinkHtml;\n",
              "          element.appendChild(docLink);\n",
              "        }\n",
              "      </script>\n",
              "    </div>\n",
              "  </div>\n",
              "  "
            ]
          },
          "metadata": {},
          "execution_count": 47
        }
      ]
    },
    {
      "cell_type": "markdown",
      "source": [
        "# **Tokenize the sentence**"
      ],
      "metadata": {
        "id": "MbXYxSK_4H3L"
      }
    },
    {
      "cell_type": "code",
      "source": [
        "separatedList = []\n",
        "for i in range (5):\n",
        "  separatedList.append(df['content'][i].split(' '))"
      ],
      "metadata": {
        "id": "ueS0IDwSuvYA"
      },
      "execution_count": 61,
      "outputs": []
    },
    {
      "cell_type": "code",
      "source": [
        "df['separated']=separatedList"
      ],
      "metadata": {
        "id": "j3QAUAeZu1vD"
      },
      "execution_count": 62,
      "outputs": []
    },
    {
      "cell_type": "code",
      "source": [
        "df.head()"
      ],
      "metadata": {
        "id": "EQ0VhSezwqQW"
      },
      "execution_count": null,
      "outputs": []
    },
    {
      "cell_type": "code",
      "source": [
        "stops = set(stopwords.words(\"arabic\"))"
      ],
      "metadata": {
        "id": "rXexokkRxcWe"
      },
      "execution_count": 66,
      "outputs": []
    },
    {
      "cell_type": "code",
      "source": [
        "print(stops)"
      ],
      "metadata": {
        "colab": {
          "base_uri": "https://localhost:8080/"
        },
        "id": "_6h8pErhxcfr",
        "outputId": "38422894-dde5-419c-c683-b5d9912d9a00"
      },
      "execution_count": 74,
      "outputs": [
        {
          "output_type": "stream",
          "name": "stdout",
          "text": [
            "{'مما', 'هذه', 'غداة', 'كما', 'ط', 'عشرين', 'هَذِه', 'ق', 'كي', 'ميم', 'ثلاثمئة', 'خمس', 'الألى', 'الألاء', 'ذ', 'لكنَّ', 'إليكَ', 'كأنما', 'لم', 'كن', 'عيانا', 'رويدك', 'ساء', 'أمسى', 'تانِ', 'أفعل به', 'ذلكن', 'فمن', 'لو', 'مئتان', 'علق', 'فيم', 'وإذا', 'إياي', 'شباط', 'درى', 'أنًّ', 'أسكن', 'أنّى', 'لها', 'هَاتِه', 'ما أفعله', 'ذواتا', 'د', 'إليكنّ', 'من', 'دولار', 'عدَّ', 'التي', 'تجاه', 'ظ', 'لكنما', 'ذات', 'تَيْنِ', 'ثامن', 'سرعان', 'أخبر', 'اتخذ', 'نَخْ', 'ياء', 'ستمائة', 'ض', 'رجع', 'إن', 'يوليو', 'حسب', 'نحن', 'هلم', 'خمسمائة', 'ته', 'انقلب', 'مكانكما', 'خاء', 'أربعة', 'ثلاثين', 'ليستا', 'سبت', 'عوض', 'ظاء', 'تلك', 'أنى', 'إياكما', 'بكم', 'ح', 'صراحة', 'كأي', 'كان', 'لات', 'هلا', 'تِه', 'أمام', 'هما', 'وُشْكَانَ', 'تسعمائة', 'ماذا', 'إما', 'أحد', 'أطعم', 'بسّ', 'فو', 'اللتيا', 'عَدَسْ', 'والذي', 'أفريل', 'مع', 'يمين', 'اخلولق', 'ثمانون', 'ممن', 'حمو', 'كيت', 'ش', 'ثمانية', 'ديسمبر', 'أعطى', 'ثالث', 'آهِ', 'حمدا', 'آنفا', 'ثان', 'سادس', 'ئ', 'أربعمئة', 'كرب', 'نون', 'أى', 'آمينَ', 'أمد', 'سنتيم', 'تسعين', 'يا', 'أكثر', 'نفس', 'تارة', 'زعم', 'لاسيما', 'أم', 'هاته', 'أولئك', 'فيفري', 'أيلول', 'ذان', 'فبراير', 'شرع', 'تاسع', 'بماذا', 'ألا', 'ومن', 'لكما', 'اللذان', 'تسع', 'حبيب', 'عين', 'هيّا', 'غدا', 'لدى', 'شبه', 'فضلا', 'تلقاء', 'أخذ', 'وا', 'مايو', 'ة', 'هن', 'شَتَّانَ', 'ظنَّ', 'درهم', 'عما', 'واو', 'أعلم', 'أ', 'لهما', 'إذا', 'خمسون', 'رُبَّ', 'صاد', 'ذِي', 'ذِه', 'حاء', 'عشرون', 'كلا', 'عاشر', 'ضحوة', 'كلَّا', 'به', 'إياكن', 'مليم', 'ذهب', 'سوف', 'حيثما', 'ثمانين', 'لمّا', 'سمعا', 'تِي', 'يفعلان', 'هو', 'أوه', 'تسعة', 'قبل', 'أجل', 'إياه', 'أجمع', 'على', 'إلا', 'هاتين', 'ذانك', 'بهن', 'واحد', 'ولا', 'إى', 'جوان', 'ا', 'إياك', 'أنبأ', 'خمسة', 'لستم', 'ليست', 'أبدا', 'تين', 'مارس', 'ستة', 'نيف', 'هل', 'جنيه', 'مادام', 'لسن', 'هَذَيْنِ', 'جانفي', 'هاهنا', 'ذوا', 'كم', 'ء', 'إياها', 'آناء', 'هلّا', 'شين', 'إياكم', 'دونك', 'عند', 'أول', 'ست', 'اربعون', 'هاك', 'أربع', 'إنَّ', 'تحوّل', 'خ', 'لعلَّ', 'أخٌ', 'مذ', 'صبرا', 'أنتن', 'آي', 'خلف', 'إليكما', 'بس', 'هَاتِي', 'لن', 'إنا', 'سحقا', 'ثمَّ', 'دواليك', 'كأيّن', 'فرادى', 'ثمّة', 'بطآن', 'جعل', 'عسى', 'أي', 'ثلاثون', 'إلى', 'لبيك', 'سبعين', 'هَؤلاء', 'قرش', 'ترك', 'خال', 'تشرين', 'آب', 'نا', 'ليسا', 'ذا', 'إلّا', 'ذينك', 'ل', 'حجا', 'صبر', 'تانِك', 'أيضا', 'وهب', 'كيف', 'مكانكم', 'جمعة', 'لك', 'نوفمبر', 'زاي', 'منه', 'معاذ', 'تفعلين', 'جلل', 'راح', 'حين', 'تسعمئة', 'نيسان', 'آها', 'أربعاء', 'ريال', 'أمس', 'رأى', 'اثنان', 'ث', 'أن', 'إياهم', 'آه', 'غالبا', 'مازال', 'وإن', 'طاق', 'عليه', 'يورو', 'صهٍ', 'أمامك', 'حرى', 'إحدى', 'عامة', 'غ', 'إزاء', 'ع', 'أف', 'حادي', 'هذا', 'إياهما', 'نحو', 'فإذا', 'هكذا', 'أربعمائة', 'ف', 'ر', 'مهما', 'ماي', 'يونيو', 'هاء', 'صار', 'أيا', 'رابع', 'لام', 'خبَّر', 'ظلّ', 'همزة', 'أينما', 'ألف', 'سبع', 'ليرة', 'ثمانمئة', 'أبو', 'هاكَ', 'بها', 'ذين', 'بك', 'أيّان', 'ص', 'م', 'هيت', 'س', 'ي', 'ذلكم', 'إذما', 'سبعمائة', 'راء', 'ألفى', 'و', 'بعدا', 'ولو', 'مثل', 'بغتة', 'ريث', 'بضع', 'ضاد', 'ليسوا', 'حَذارِ', 'إليك', 'فوق', 'حيَّ', 'أبٌ', 'فلا', 'عجبا', 'اللائي', 'إليكم', 'والذين', 'كلتا', 'ذو', 'هَذا', 'أفٍّ', 'فاء', 'ز', 'سبعون', 'ذواتي', 'حزيران', 'إيه', 'لهن', 'ب', 'هَاتانِ', 'أنتم', 'حاي', 'كليهما', 'يفعلون', 'دينار', 'اثنين', 'طفق', 'حدَث', 'حيث', 'أصبح', 'آض', 'ابتدأ', 'سبعمئة', 'لستن', 'أنتما', 'فيه', 'سرا', 'انبرى', 'ثاني', 'ستون', 'ثلاث', 'جميع', 'ين', 'أو', 'لئن', 'أمامكَ', 'ثم', 'أضحى', 'كأنّ', 'ذه', 'كاد', 'شتانَ', 'ولكن', 'اللتين', 'بهما', 'خلا', 'حبذا', 'طاء', 'بخ', 'ثلاثاء', 'مائة', 'ما انفك', 'فلان', 'ذانِ', 'كأن', 'هناك', 'اللتان', 'أبريل', 'ؤ', 'منها', 'سبحان', 'نَّ', 'ذلكما', 'بخٍ', 'حتى', 'أيار', 'هنا', 'وجد', 'خمسين', 'كلّما', 'لكي', 'بهم', 'بكما', 'ذال', 'هَاتَيْنِ', 'باء', 'تلكما', 'أل', 'سقى', 'ج', 'ورد', 'ثلاثة', 'أكتوبر', 'ذاك', 'قام', 'عل', 'إياهن', 'بلى', 'ذيت', 'واهاً', 'صدقا', 'ارتدّ', 'كلاهما', 'وراءَك', 'مرّة', 'إليكن', 'تسعون', 'حار', 'أُفٍّ', 'رزق', 'خلافا', 'كلما', 'بين', 'تفعلان', 'عدا', 'لي', 'أقل', 'اربعين', 'بيد', 'إذاً', 'هاتان', 'هذي', 'آذار', 'كذا', 'تلكم', 'قد', 'أمّا', 'إنه', 'له', 'عشرة', 'نعم', 'طَق', 'خميس', 'صهْ', 'فلس', 'في', 'منذ', 'ها', 'ك', 'كسا', 'كيفما', 'غادر', 'تحت', 'لست', 'أهلا', 'لعمر', 'غير', 'وهو', 'اللذين', 'وما', 'ليس', 'أوّهْ', 'ليت', 'اثني', 'دون', 'عن', 'لدن', 'طرا', 'بي', 'ّأيّان', 'قلما', 'ستين', 'سبتمبر', 'حمٌ', 'أولاء', 'آهٍ', 'مكانَك', 'تبدّل', 'إنما', 'فيما', 'مئة', 'هللة', 'طالما', 'سابع', 'جويلية', 'أنتِ', 'بَلْهَ', 'مساء', 'أيّ', 'تعلَّم', 'اللاتي', 'أنا', 'اثنا', 'تاء', 'أوشك', 'آهاً', 'دال', 'فإن', 'ثمّ', 'وَيْ', 'هذان', 'هذين', 'تفعلون', 'هَذانِ', 'نبَّا', 'أوت', 'يوان', 'أين', 'إلَيْكَ', 'هَجْ', 'لكن', 'تعسا', 'خاصة', 'ما', 'مافتئ', 'الآن', 'لسنا', 'زود', 'متى', 'ت', 'سبعة', 'استحال', 'كل', 'أما', 'إي', 'قاف', 'إيهٍ', 'بعد', 'شمال', 'كاف', 'بمن', 'إمّا', 'مكانكنّ', 'ى', 'هم', 'علم', 'ذلك', 'هَيْهات', 'سوى', 'لولا', 'لكيلا', 'جيم', 'الذي', 'تخذ', 'تموز', 'كذلك', 'أرى', 'أغسطس', 'هبّ', 'خمسمئة', 'ذي', 'هي', 'هَذِي', 'حاشا', 'غين', 'بنا', 'كأيّ', 'عشر', 'ثماني', 'يناير', 'ثاء', 'حقا', 'بؤسا', 'لوما', 'إذن', 'كليكما', 'قاطبة', 'لهم', 'كِخ', 'ثمان', 'كأين', 'كثيرا', 'ءَ', 'بكن', 'شيكل', 'آ', 'ذَيْنِ', 'ما برح', 'سين', 'عاد', 'تينك', 'تي', 'ه', 'لما', 'اللواتي', 'وإذ', 'أنشأ', 'أولالك', 'ثلاثمائة', 'كى', 'أخو', 'ستمئة', 'لعل', 'لا سيما', 'صباح', 'بات', 'بعض', 'هاتي', 'علًّ', 'أقبل', 'عليك', 'فيها', 'أنت', 'جير', 'هنالك', 'لستما', 'خامس', 'هيا', 'ن', 'بل', 'بما', 'كانون', 'هيهات', 'الذين', 'لكم', 'لا', 'لنا', 'بَسْ', 'أصلا', 'إيانا', 'شتان', 'قطّ', 'ثمة', 'هؤلاء', 'ثمنمئة', 'بئس', 'أيها', 'إذ', 'مه'}\n"
          ]
        }
      ]
    },
    {
      "cell_type": "code",
      "source": [
        "blobList = []\n",
        "for i in range(len(df['filename'])):\n",
        "  zen = TextBlob(df['content'][i])\n",
        "  words = zen.words\n",
        "  blobList.append(words)"
      ],
      "metadata": {
        "id": "3JzFXenpwsp1"
      },
      "execution_count": 70,
      "outputs": []
    },
    {
      "cell_type": "code",
      "source": [
        "df['sep']=blobList"
      ],
      "metadata": {
        "id": "wCh9_5G1z0pO"
      },
      "execution_count": 71,
      "outputs": []
    },
    {
      "cell_type": "code",
      "source": [
        "df.head()"
      ],
      "metadata": {
        "colab": {
          "base_uri": "https://localhost:8080/",
          "height": 302
        },
        "id": "VA5DOtjFz52D",
        "outputId": "9b18efb4-d2b8-4fa1-ce5f-3d46d12435ac"
      },
      "execution_count": 79,
      "outputs": [
        {
          "output_type": "execute_result",
          "data": {
            "text/plain": [
              "   filename                                            content  \\\n",
              "0  0126.txt  ينظم معهد حوكمة الشركات حوكمة ومقره مركز دبي ا...   \n",
              "1  1007.txt  أبوظبي: الخليج صعد مؤشر سوق أبوظبي للأوراق الم...   \n",
              "2  0941.txt  قاد سهم إعمار صعوداً قوياً لأسواق الأسهم المحل...   \n",
              "3  1113.txt  أبوظبي «الخليج»: ارتفع مؤشر سوق الإمارات المال...   \n",
              "4  0765.txt  أبلغ بنك دبي الإسلامي سوق دبي المالي بأن اجتما...   \n",
              "\n",
              "                                           separated  \\\n",
              "0  [ينظم, معهد, حوكمة, الشركات, حوكمة, ومقره, مرك...   \n",
              "1  [أبوظبي:, الخليج, صعد, مؤشر, سوق, أبوظبي, للأو...   \n",
              "2  [قاد, سهم, إعمار, صعوداً, قوياً, لأسواق, الأسه...   \n",
              "3  [أبوظبي, «الخليج»:, ارتفع, مؤشر, سوق, الإمارات...   \n",
              "4  [أبلغ, بنك, دبي, الإسلامي, سوق, دبي, المالي, ب...   \n",
              "\n",
              "                                                 sep  \\\n",
              "0  [ينظم, معهد, حوكمة, الشركات, حوكمة, ومقره, مرك...   \n",
              "1  [أبوظبي, الخليج, صعد, مؤشر, سوق, أبوظبي, للأور...   \n",
              "2  [قاد, سهم, إعمار, صعوداً, قوياً, لأسواق, الأسه...   \n",
              "3  [أبوظبي, «, الخليج, », ارتفع, مؤشر, سوق, الإما...   \n",
              "4  [أبلغ, بنك, دبي, الإسلامي, سوق, دبي, المالي, ب...   \n",
              "\n",
              "                                         stopRemoved  \n",
              "0  ينظم,معهد,حوكمة,الشركات,حوكمة,ومقره,مركز,دبي,ا...  \n",
              "1  أبوظبي,الخليج,صعد,مؤشر,سوق,أبوظبي,للأوراق,الما...  \n",
              "2  قاد,سهم,إعمار,صعوداً,قوياً,لأسواق,الأسهم,المحل...  \n",
              "3  أبوظبي,«,الخليج,»,ارتفع,مؤشر,سوق,الإمارات,الما...  \n",
              "4  أبلغ,بنك,دبي,الإسلامي,سوق,دبي,المالي,بأن,اجتما...  "
            ],
            "text/html": [
              "\n",
              "  <div id=\"df-c34e07ae-c180-42ce-803a-757235437f3d\">\n",
              "    <div class=\"colab-df-container\">\n",
              "      <div>\n",
              "<style scoped>\n",
              "    .dataframe tbody tr th:only-of-type {\n",
              "        vertical-align: middle;\n",
              "    }\n",
              "\n",
              "    .dataframe tbody tr th {\n",
              "        vertical-align: top;\n",
              "    }\n",
              "\n",
              "    .dataframe thead th {\n",
              "        text-align: right;\n",
              "    }\n",
              "</style>\n",
              "<table border=\"1\" class=\"dataframe\">\n",
              "  <thead>\n",
              "    <tr style=\"text-align: right;\">\n",
              "      <th></th>\n",
              "      <th>filename</th>\n",
              "      <th>content</th>\n",
              "      <th>separated</th>\n",
              "      <th>sep</th>\n",
              "      <th>stopRemoved</th>\n",
              "    </tr>\n",
              "  </thead>\n",
              "  <tbody>\n",
              "    <tr>\n",
              "      <th>0</th>\n",
              "      <td>0126.txt</td>\n",
              "      <td>ينظم معهد حوكمة الشركات حوكمة ومقره مركز دبي ا...</td>\n",
              "      <td>[ينظم, معهد, حوكمة, الشركات, حوكمة, ومقره, مرك...</td>\n",
              "      <td>[ينظم, معهد, حوكمة, الشركات, حوكمة, ومقره, مرك...</td>\n",
              "      <td>ينظم,معهد,حوكمة,الشركات,حوكمة,ومقره,مركز,دبي,ا...</td>\n",
              "    </tr>\n",
              "    <tr>\n",
              "      <th>1</th>\n",
              "      <td>1007.txt</td>\n",
              "      <td>أبوظبي: الخليج صعد مؤشر سوق أبوظبي للأوراق الم...</td>\n",
              "      <td>[أبوظبي:, الخليج, صعد, مؤشر, سوق, أبوظبي, للأو...</td>\n",
              "      <td>[أبوظبي, الخليج, صعد, مؤشر, سوق, أبوظبي, للأور...</td>\n",
              "      <td>أبوظبي,الخليج,صعد,مؤشر,سوق,أبوظبي,للأوراق,الما...</td>\n",
              "    </tr>\n",
              "    <tr>\n",
              "      <th>2</th>\n",
              "      <td>0941.txt</td>\n",
              "      <td>قاد سهم إعمار صعوداً قوياً لأسواق الأسهم المحل...</td>\n",
              "      <td>[قاد, سهم, إعمار, صعوداً, قوياً, لأسواق, الأسه...</td>\n",
              "      <td>[قاد, سهم, إعمار, صعوداً, قوياً, لأسواق, الأسه...</td>\n",
              "      <td>قاد,سهم,إعمار,صعوداً,قوياً,لأسواق,الأسهم,المحل...</td>\n",
              "    </tr>\n",
              "    <tr>\n",
              "      <th>3</th>\n",
              "      <td>1113.txt</td>\n",
              "      <td>أبوظبي «الخليج»: ارتفع مؤشر سوق الإمارات المال...</td>\n",
              "      <td>[أبوظبي, «الخليج»:, ارتفع, مؤشر, سوق, الإمارات...</td>\n",
              "      <td>[أبوظبي, «, الخليج, », ارتفع, مؤشر, سوق, الإما...</td>\n",
              "      <td>أبوظبي,«,الخليج,»,ارتفع,مؤشر,سوق,الإمارات,الما...</td>\n",
              "    </tr>\n",
              "    <tr>\n",
              "      <th>4</th>\n",
              "      <td>0765.txt</td>\n",
              "      <td>أبلغ بنك دبي الإسلامي سوق دبي المالي بأن اجتما...</td>\n",
              "      <td>[أبلغ, بنك, دبي, الإسلامي, سوق, دبي, المالي, ب...</td>\n",
              "      <td>[أبلغ, بنك, دبي, الإسلامي, سوق, دبي, المالي, ب...</td>\n",
              "      <td>أبلغ,بنك,دبي,الإسلامي,سوق,دبي,المالي,بأن,اجتما...</td>\n",
              "    </tr>\n",
              "  </tbody>\n",
              "</table>\n",
              "</div>\n",
              "      <button class=\"colab-df-convert\" onclick=\"convertToInteractive('df-c34e07ae-c180-42ce-803a-757235437f3d')\"\n",
              "              title=\"Convert this dataframe to an interactive table.\"\n",
              "              style=\"display:none;\">\n",
              "        \n",
              "  <svg xmlns=\"http://www.w3.org/2000/svg\" height=\"24px\"viewBox=\"0 0 24 24\"\n",
              "       width=\"24px\">\n",
              "    <path d=\"M0 0h24v24H0V0z\" fill=\"none\"/>\n",
              "    <path d=\"M18.56 5.44l.94 2.06.94-2.06 2.06-.94-2.06-.94-.94-2.06-.94 2.06-2.06.94zm-11 1L8.5 8.5l.94-2.06 2.06-.94-2.06-.94L8.5 2.5l-.94 2.06-2.06.94zm10 10l.94 2.06.94-2.06 2.06-.94-2.06-.94-.94-2.06-.94 2.06-2.06.94z\"/><path d=\"M17.41 7.96l-1.37-1.37c-.4-.4-.92-.59-1.43-.59-.52 0-1.04.2-1.43.59L10.3 9.45l-7.72 7.72c-.78.78-.78 2.05 0 2.83L4 21.41c.39.39.9.59 1.41.59.51 0 1.02-.2 1.41-.59l7.78-7.78 2.81-2.81c.8-.78.8-2.07 0-2.86zM5.41 20L4 18.59l7.72-7.72 1.47 1.35L5.41 20z\"/>\n",
              "  </svg>\n",
              "      </button>\n",
              "      \n",
              "  <style>\n",
              "    .colab-df-container {\n",
              "      display:flex;\n",
              "      flex-wrap:wrap;\n",
              "      gap: 12px;\n",
              "    }\n",
              "\n",
              "    .colab-df-convert {\n",
              "      background-color: #E8F0FE;\n",
              "      border: none;\n",
              "      border-radius: 50%;\n",
              "      cursor: pointer;\n",
              "      display: none;\n",
              "      fill: #1967D2;\n",
              "      height: 32px;\n",
              "      padding: 0 0 0 0;\n",
              "      width: 32px;\n",
              "    }\n",
              "\n",
              "    .colab-df-convert:hover {\n",
              "      background-color: #E2EBFA;\n",
              "      box-shadow: 0px 1px 2px rgba(60, 64, 67, 0.3), 0px 1px 3px 1px rgba(60, 64, 67, 0.15);\n",
              "      fill: #174EA6;\n",
              "    }\n",
              "\n",
              "    [theme=dark] .colab-df-convert {\n",
              "      background-color: #3B4455;\n",
              "      fill: #D2E3FC;\n",
              "    }\n",
              "\n",
              "    [theme=dark] .colab-df-convert:hover {\n",
              "      background-color: #434B5C;\n",
              "      box-shadow: 0px 1px 3px 1px rgba(0, 0, 0, 0.15);\n",
              "      filter: drop-shadow(0px 1px 2px rgba(0, 0, 0, 0.3));\n",
              "      fill: #FFFFFF;\n",
              "    }\n",
              "  </style>\n",
              "\n",
              "      <script>\n",
              "        const buttonEl =\n",
              "          document.querySelector('#df-c34e07ae-c180-42ce-803a-757235437f3d button.colab-df-convert');\n",
              "        buttonEl.style.display =\n",
              "          google.colab.kernel.accessAllowed ? 'block' : 'none';\n",
              "\n",
              "        async function convertToInteractive(key) {\n",
              "          const element = document.querySelector('#df-c34e07ae-c180-42ce-803a-757235437f3d');\n",
              "          const dataTable =\n",
              "            await google.colab.kernel.invokeFunction('convertToInteractive',\n",
              "                                                     [key], {});\n",
              "          if (!dataTable) return;\n",
              "\n",
              "          const docLinkHtml = 'Like what you see? Visit the ' +\n",
              "            '<a target=\"_blank\" href=https://colab.research.google.com/notebooks/data_table.ipynb>data table notebook</a>'\n",
              "            + ' to learn more about interactive tables.';\n",
              "          element.innerHTML = '';\n",
              "          dataTable['output_type'] = 'display_data';\n",
              "          await google.colab.output.renderOutput(dataTable, element);\n",
              "          const docLink = document.createElement('div');\n",
              "          docLink.innerHTML = docLinkHtml;\n",
              "          element.appendChild(docLink);\n",
              "        }\n",
              "      </script>\n",
              "    </div>\n",
              "  </div>\n",
              "  "
            ]
          },
          "metadata": {},
          "execution_count": 79
        }
      ]
    },
    {
      "cell_type": "markdown",
      "source": [
        "#**Remove Stop Words**"
      ],
      "metadata": {
        "id": "AiBNWNlt4VQw"
      }
    },
    {
      "cell_type": "code",
      "source": [
        "stopRemList = []\n",
        "for i in range (len(df['filename'])):\n",
        "  stp = ','.join([w for w in df['sep'][i] if not w in stops])\n",
        "  stopRemList.append(stp)"
      ],
      "metadata": {
        "id": "q4Dozd31z5-5"
      },
      "execution_count": 76,
      "outputs": []
    },
    {
      "cell_type": "code",
      "source": [
        "df['stopRemoved'] = stopRemList"
      ],
      "metadata": {
        "id": "UFYEoep-2o2A"
      },
      "execution_count": 77,
      "outputs": []
    }
  ]
}